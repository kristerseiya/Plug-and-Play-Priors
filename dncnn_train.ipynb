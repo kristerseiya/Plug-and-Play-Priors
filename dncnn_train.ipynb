{
  "nbformat": 4,
  "nbformat_minor": 0,
  "metadata": {
    "colab": {
      "name": "DnCNN.ipynb",
      "provenance": [],
      "collapsed_sections": [],
      "machine_shape": "hm"
    },
    "kernelspec": {
      "name": "python3",
      "display_name": "Python 3"
    },
    "language_info": {
      "name": "python"
    },
    "accelerator": "GPU"
  },
  "cells": [
    {
      "cell_type": "code",
      "metadata": {
        "id": "0zRZvwoAbghy",
        "colab": {
          "base_uri": "https://localhost:8080/"
        },
        "outputId": "3b1bac91-b4a3-4bed-da12-99a62f0cf854"
      },
      "source": [
        "! git clone https://github.com/kristerseiya/Plug-and-Play-Priors.git"
      ],
      "execution_count": 73,
      "outputs": [
        {
          "output_type": "stream",
          "text": [
            "Cloning into 'Plug-and-Play-Priors'...\n",
            "remote: Enumerating objects: 293, done.\u001b[K\n",
            "remote: Counting objects: 100% (293/293), done.\u001b[K\n",
            "remote: Compressing objects: 100% (219/219), done.\u001b[K\n",
            "remote: Total 293 (delta 151), reused 203 (delta 72), pack-reused 0\u001b[K\n",
            "Receiving objects: 100% (293/293), 14.95 MiB | 1.57 MiB/s, done.\n",
            "Resolving deltas: 100% (151/151), done.\n"
          ],
          "name": "stdout"
        }
      ]
    },
    {
      "cell_type": "code",
      "metadata": {
        "id": "Leme_38xeiCo",
        "colab": {
          "base_uri": "https://localhost:8080/"
        },
        "outputId": "fb95b4c4-e765-4640-870c-29619e2c2ec3"
      },
      "source": [
        "% cd Plug-and-Play-Priors"
      ],
      "execution_count": 74,
      "outputs": [
        {
          "output_type": "stream",
          "text": [
            "/content/Plug-and-Play-Priors\n"
          ],
          "name": "stdout"
        }
      ]
    },
    {
      "cell_type": "code",
      "metadata": {
        "id": "V1hFULwiemP7",
        "colab": {
          "base_uri": "https://localhost:8080/"
        },
        "outputId": "5a2160a7-0b98-4d91-a745-401183f0583c"
      },
      "source": [
        "! git pull origin main"
      ],
      "execution_count": 82,
      "outputs": [
        {
          "output_type": "stream",
          "text": [
            "remote: Enumerating objects: 7, done.\u001b[K\n",
            "remote: Counting objects:  14% (1/7)\u001b[K\rremote: Counting objects:  28% (2/7)\u001b[K\rremote: Counting objects:  42% (3/7)\u001b[K\rremote: Counting objects:  57% (4/7)\u001b[K\rremote: Counting objects:  71% (5/7)\u001b[K\rremote: Counting objects:  85% (6/7)\u001b[K\rremote: Counting objects: 100% (7/7)\u001b[K\rremote: Counting objects: 100% (7/7), done.\u001b[K\n",
            "remote: Compressing objects: 100% (1/1)\u001b[K\rremote: Compressing objects: 100% (1/1), done.\u001b[K\n",
            "remote: Total 4 (delta 3), reused 4 (delta 3), pack-reused 0\u001b[K\n",
            "Unpacking objects:  25% (1/4)   \rUnpacking objects:  50% (2/4)   \rUnpacking objects:  75% (3/4)   \rUnpacking objects: 100% (4/4)   \rUnpacking objects: 100% (4/4), done.\n",
            "From https://github.com/kristerseiya/Plug-and-Play-Priors\n",
            " * branch            main       -> FETCH_HEAD\n",
            "   c3dff05..ef8aae3  main       -> origin/main\n",
            "Updating c3dff05..ef8aae3\n",
            "Fast-forward\n",
            " DnCNN/run.py | 2 \u001b[31m--\u001b[m\n",
            " 1 file changed, 2 deletions(-)\n"
          ],
          "name": "stdout"
        }
      ]
    },
    {
      "cell_type": "code",
      "metadata": {
        "id": "IMuLIlaleowP",
        "colab": {
          "base_uri": "https://localhost:8080/"
        },
        "outputId": "8a0d3210-a9eb-4e42-d1fb-328308c81300"
      },
      "source": [
        "from google.colab import drive\n",
        "drive.mount('/content/gdrive')"
      ],
      "execution_count": 4,
      "outputs": [
        {
          "output_type": "stream",
          "text": [
            "Mounted at /content/gdrive\n"
          ],
          "name": "stdout"
        }
      ]
    },
    {
      "cell_type": "code",
      "metadata": {
        "id": "Z2BEUdwSk_Og"
      },
      "source": [
        "import torch\n",
        "from torch.utils.data import DataLoader\n",
        "from torch.optim import Adam, SGD\n",
        "from torch.optim.lr_scheduler import MultiStepLR, ExponentialLR\n",
        "from importlib import reload"
      ],
      "execution_count": 129,
      "outputs": []
    },
    {
      "cell_type": "code",
      "metadata": {
        "id": "Nmh0tUhDevwc"
      },
      "source": [
        "from DnCNN import data\n",
        "from DnCNN import model\n",
        "from DnCNN import run"
      ],
      "execution_count": 6,
      "outputs": []
    },
    {
      "cell_type": "code",
      "metadata": {
        "colab": {
          "base_uri": "https://localhost:8080/"
        },
        "id": "w8EX0TR9gKD9",
        "outputId": "1e48c624-42e8-41d0-cd8a-fd3bbf64097e"
      },
      "source": [
        "reload(data)\n",
        "reload(model)\n",
        "reload(run)"
      ],
      "execution_count": 108,
      "outputs": [
        {
          "output_type": "execute_result",
          "data": {
            "text/plain": [
              "<module 'DnCNN.run' from '/content/Plug-and-Play-Priors/DnCNN/run.py'>"
            ]
          },
          "metadata": {
            "tags": []
          },
          "execution_count": 108
        }
      ]
    },
    {
      "cell_type": "code",
      "metadata": {
        "id": "n9coakfmi_jq"
      },
      "source": [
        "gdrive_root = '/content/gdrive/MyDrive/Dataset/'\n",
        "data_dirs = [gdrive_root+'DIV2K_train_HR/DIV2K_train_HR', gdrive_root+'DIV2K_val_HR/DIV2K_val_HR']\n",
        "dataset = data.ImageDataset(data_dirs, store='ram', repeat=10, resize=-1)\n",
        "trainset, valset, testset = dataset.split(0.7, 0.1, 0.2)"
      ],
      "execution_count": 147,
      "outputs": []
    },
    {
      "cell_type": "code",
      "metadata": {
        "id": "LxlNXLWJmH_j"
      },
      "source": [
        "trainldr = DataLoader(trainset, batch_size=64, shuffle=True, drop_last=True)\n",
        "valldr = DataLoader(valset, batch_size=64, shuffle=False)\n",
        "testldr = DataLoader(testset, batch_size=1, shuffle=False)"
      ],
      "execution_count": 148,
      "outputs": []
    },
    {
      "cell_type": "code",
      "metadata": {
        "id": "--cU0aQRk4ov"
      },
      "source": [
        "device = torch.device('cuda')"
      ],
      "execution_count": 149,
      "outputs": []
    },
    {
      "cell_type": "code",
      "metadata": {
        "id": "dN8MrNhFjwmg"
      },
      "source": [
        "net = model.DnCNN(act_mode='BR').move(device)\n",
        "# optimizer = SGD(net.parameters(), lr=1e-2, weight_decay=1e-4, momentum=0.9)\n",
        "# scheduler = ExponentialLR(optimizer, 1e-3 ** (1 / 50) )\n",
        "optimizer = Adam(net.parameters(), lr=1e-3)\n",
        "scheduler = MultiStepLR(optimizer, [25,], gamma=0.1)"
      ],
      "execution_count": 162,
      "outputs": []
    },
    {
      "cell_type": "code",
      "metadata": {
        "id": "HxIiRYy0l9C-",
        "colab": {
          "base_uri": "https://localhost:8080/"
        },
        "outputId": "b692c3c3-defc-4dcd-c204-570c3a5005c7"
      },
      "source": [
        "log = run.train(net, optimizer, 40, trainldr, 50, validation=valldr, scheduler=scheduler)"
      ],
      "execution_count": 163,
      "outputs": [
        {
          "output_type": "stream",
          "text": [
            "\n",
            "Epoch #1\n",
            "Train Loss: 0.03264\n",
            "Val Loss: 0.00941\n",
            "\n",
            "Epoch #2\n",
            "Train Loss: 0.00807\n",
            "Val Loss: 0.00505\n",
            "\n",
            "Epoch #3\n",
            "Train Loss: 0.00629\n",
            "Val Loss: 0.00587\n",
            "\n",
            "Epoch #4\n",
            "Train Loss: 0.00489\n",
            "Val Loss: 0.00529\n",
            "\n",
            "Epoch #5\n",
            "Train Loss: 0.00448\n",
            "Val Loss: 0.00328\n",
            "\n",
            "Epoch #6\n",
            "Train Loss: 0.00389\n",
            "Val Loss: 0.00378\n",
            "\n",
            "Epoch #7\n",
            "Train Loss: 0.00415\n",
            "Val Loss: 0.00794\n",
            "\n",
            "Epoch #8\n",
            "Train Loss: 0.00383\n",
            "Val Loss: 0.00354\n",
            "\n",
            "Epoch #9\n",
            "Train Loss: 0.00355\n",
            "Val Loss: 0.00374\n",
            "\n",
            "Epoch #10\n",
            "Train Loss: 0.00362\n",
            "Val Loss: 0.00338\n",
            "\n",
            "Epoch #11\n",
            "Train Loss: 0.00327\n",
            "Val Loss: 0.00603\n",
            "\n",
            "Epoch #12\n",
            "Train Loss: 0.00320\n",
            "Val Loss: 0.00293\n",
            "\n",
            "Epoch #13\n",
            "Train Loss: 0.00306\n",
            "Val Loss: 0.00416\n",
            "\n",
            "Epoch #14\n",
            "Train Loss: 0.00307\n",
            "Val Loss: 0.00384\n",
            "\n",
            "Epoch #15\n",
            "Train Loss: 0.00310\n",
            "Val Loss: 0.00284\n",
            "\n",
            "Epoch #16\n",
            "Train Loss: 0.00295\n",
            "Val Loss: 0.00310\n",
            "\n",
            "Epoch #17\n",
            "Train Loss: 0.00295\n",
            "Val Loss: 0.00284\n",
            "\n",
            "Epoch #18\n",
            "Train Loss: 0.00291\n",
            "Val Loss: 0.00297\n",
            "\n",
            "Epoch #19\n",
            "Train Loss: 0.00286\n",
            "Val Loss: 0.00370\n",
            "\n",
            "Epoch #20\n",
            "Train Loss: 0.00280\n",
            "Val Loss: 0.00362\n",
            "\n",
            "Epoch #21\n",
            "Train Loss: 0.00282\n",
            "Val Loss: 0.00278\n",
            "\n",
            "Epoch #22\n",
            "Train Loss: 0.00287\n",
            "Val Loss: 0.00511\n",
            "\n",
            "Epoch #23\n",
            "Train Loss: 0.00281\n",
            "Val Loss: 0.00253\n",
            "\n",
            "Epoch #24\n",
            "Train Loss: 0.00270\n",
            "Val Loss: 0.00255\n",
            "\n",
            "Epoch #25\n",
            "Train Loss: 0.00269\n",
            "Val Loss: 0.00243\n",
            "\n",
            "Epoch #26\n",
            "Train Loss: 0.00259\n",
            "Val Loss: 0.00245\n",
            "\n",
            "Epoch #27\n",
            "Train Loss: 0.00259\n",
            "Val Loss: 0.00244\n",
            "\n",
            "Epoch #28\n",
            "Train Loss: 0.00255\n",
            "Val Loss: 0.00224\n",
            "\n",
            "Epoch #29\n",
            "Train Loss: 0.00260\n",
            "Val Loss: 0.00231\n",
            "\n",
            "Epoch #30\n",
            "Train Loss: 0.00258\n",
            "Val Loss: 0.00349\n",
            "\n",
            "Epoch #31\n",
            "Train Loss: 0.00255\n",
            "Val Loss: 0.00238\n",
            "\n",
            "Epoch #32\n",
            "Train Loss: 0.00257\n",
            "Val Loss: 0.00240\n",
            "\n",
            "Epoch #33\n",
            "Train Loss: 0.00254\n",
            "Val Loss: 0.00230\n",
            "\n",
            "Epoch #34\n",
            "Train Loss: 0.00255\n",
            "Val Loss: 0.00260\n",
            "\n",
            "Epoch #35\n",
            "Train Loss: 0.00250\n",
            "Val Loss: 0.00242\n",
            "\n",
            "Epoch #36\n",
            "Train Loss: 0.00252\n",
            "Val Loss: 0.00227\n",
            "\n",
            "Epoch #37\n",
            "Train Loss: 0.00258\n",
            "Val Loss: 0.00305\n",
            "\n",
            "Epoch #38\n",
            "Train Loss: 0.00255\n",
            "Val Loss: 0.00239\n",
            "\n",
            "Epoch #39\n",
            "Train Loss: 0.00258\n",
            "Val Loss: 0.00243\n",
            "\n",
            "Epoch #40\n",
            "Train Loss: 0.00256\n",
            "Val Loss: 0.00243\n"
          ],
          "name": "stdout"
        }
      ]
    },
    {
      "cell_type": "code",
      "metadata": {
        "colab": {
          "base_uri": "https://localhost:8080/"
        },
        "id": "TbSACH8AtuYz",
        "outputId": "4bf93f55-ca99-4637-cb29-ab1d228a7caa"
      },
      "source": [
        "test_mse = run.validate(net, testldr, 50)\n",
        "print('MSE: {:.5f}'.format(test_mse))"
      ],
      "execution_count": 166,
      "outputs": [
        {
          "output_type": "stream",
          "text": [
            "MSE: 0.00242\n"
          ],
          "name": "stdout"
        }
      ]
    },
    {
      "cell_type": "code",
      "metadata": {
        "id": "jEiF7260SWe-"
      },
      "source": [
        "torch.save(net.state_dict(), 'dncnn50.pth')"
      ],
      "execution_count": 165,
      "outputs": []
    }
  ]
}